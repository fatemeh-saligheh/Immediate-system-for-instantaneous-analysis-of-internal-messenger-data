{
 "cells": [
  {
   "cell_type": "code",
   "execution_count": 1,
   "metadata": {},
   "outputs": [],
   "source": [
    "\n",
    "import requests \n",
    "from bs4 import BeautifulSoup \n",
    "  \n",
    "def news(url): \n",
    "    list_ = []\n",
    "    # the target we want to open     \n",
    "    \n",
    "      \n",
    "    #open with GET method \n",
    "    resp=requests.get(url) \n",
    "      \n",
    "    #http_respone 200 means OK status \n",
    "    if resp.status_code==200: \n",
    "      \n",
    "        # we need a parser,Python built-in HTML parser is enough . \n",
    "        soup=BeautifulSoup(resp.text,'html.parser')     \n",
    "  \n",
    "        # l is the list which contains all the text i.e news  \n",
    "    \n",
    "        href =soup.findAll(\"h2\",{\"class\":\"c_title\"}) \n",
    "        for l in href:\n",
    "            l = str(l)\n",
    "\n",
    "            st = l[l.find('href')+4:]\n",
    "            st = st[:st.find('>')]\n",
    "            id_= ''\n",
    "            x = st.split('/')\n",
    "            id_ = x[len(x)-1]\n",
    "            #print(id_[:id_.find('\"')])\n",
    "\n",
    "\n",
    "            list_.append(id_[:id_.find('\"')])\n",
    "        #now we want to print only the text part of the anchor. \n",
    "        #find all the elements of a, i.e anchor \n",
    "        #for i in l.findAll(\"a\"): \n",
    "        #    print(i.text) \n",
    "    else: \n",
    "        print(\"Error\")\n",
    "    return list_\n",
    "\n",
    "\n"
   ]
  },
  {
   "cell_type": "code",
   "execution_count": 11,
   "metadata": {},
   "outputs": [
    {
     "name": "stdout",
     "output_type": "stream",
     "text": [
      "['animalshelter', 'bazar_dam', 'phoenix_ilove', 'natgeo', 'siadpaliz', 'zalooparvar.fadak', 'teyur966', 'Just_Fish', 'poultry96', 'LarrySerra', 'amozeshkadecanary', 'national_geographik', 'aquarium_fish', 'akvaruom.farzad', 'toyyyour']\n",
      "['crtoonland', 'otaku.net', 'behtarinanime', 'animefun', 'hamidmixer', 'koodakonline1', 'cartoonstv1', 'animation_kotah', 'andeshezeba', 'clip_irancartoon', 'og_instagram', 'clip_kodakane', 'tom_and_jery', 'clip_babsfangi', 'clip_cartoon']\n",
      "['tarh.graph', 'Tablofarsh.chehre.mandegar', 'logowhiteblack', 'avindordoneh', 'fatjmazahrayas', 'artist_painter', 'Mr.geraphic', 'namadarzan', 'ms_logo.ir', 'Angoshtar_khatam', 'sobhanms', 'parvanjf', 'epoxsiii', 'naziricalligraphy', 'Kaghzqom']\n",
      "['kayerpipe', '3dmax_farsi', 'cc.architect', 'mojriha', 'decokara', 'urbanity', 'MAXWORLD_IR', 'decoraat', 'ostadekargari']\n",
      "['WAcars', '1dande_ir', 'Water_Pump_TakTaz', 'machine_SPORT', 'abolfazl_prop', 'kolahkasket.ir', 'carkhavaran', 'sajadhafizi', 'VisionSport', 'lux_motor', 'eshghe_motor', 'Z4Car', 'mashingbaz', 'carmotoweap', 'mechanicali']\n",
      "['khabargozariemehranmodiri', 'mohsenebrahimzadee', 'exoforever', 'Reyhaneparsaa', 'khoramaabaadi', 'mohamadaminkarimpor_soroush', 'ali_abdolmaleki.', 'mohhamadrezagolzar', 'taeyeon.a', 'Dr_pourmokhtar', 'dr_abbasi', 'Rezaee_ir', 'hasanereyvandi', 'EbrahimZadeh_Mohsen', 'azarijahromii']\n",
      "['sadahravesh_animals', 'photoshop4224', 'harfbozorkan', 'Cyberdil', 'hoghogh_yar1', 'androidwindows1', 'diivar_ketab', 'mathacademyir', 'englishfansclub', 'hamyaremoalleman', 'informedparent', 'bonabdarolquran', 'النازپکوک', 'jalali', 'nooritekab']\n",
      "['iran_tourism1', 'iranjaleb', 'Gardeshinews', 'biasafar', 'lookinns', 'charteriha', 'gashtoneh', 'favsbc51663vhxsbc', 'hiholiday24', 'marcopologroup', 'moraskhoon', 'vilarezerv', 'nehbandan', 'ami_gilan_jan']\n",
      "['mod_zibaeiii', 'raz_zibayi', 'ideh.dokhtaraneh', 'zibaeerozz', 'dokhtarune.', 'qeisari_perfume', 'love_shopping', 'Fakhersara_khatam', 'storeroz1375', 'donyayenakhon', 'postvzibi', 'sormatik', 'pimpamchanel', 'Golshan_1340', 'teerajeh2']\n",
      "['mahsolat_organnik', 'nini_food']\n",
      "['yaraneemam', 'efaf313hejab', 'rahbarmane', 'bachehhaymadarpahloshekasteh', 'Nixonaccshop1', 'sedaghatdarghalam', 'bachehhaymadarpahloshekasteh.ir', 'alememojahed_malekhosseini', 'Outbears', 'eshghefilm', 'dgkalacom', 'ROCK4ever4REAL', 'crtoonland', 'masjed_emam_reza', 'dokhtraybeheshti', 'dokhtar_khass', 'return9_9', 'persepolisnewspage', 'nojo_andishkade', 'ROCK4ever4REAL', 'EyVey.', 'bachehhaymadarpahloshekasteh.ir', 'bachehhaymadarpahloshekasteh', 'Storyefake', 'mranir_meshkat.', 'Hejabfatemy', 'ngvnjnkhb', 'FOOTBALLBARTAR.TV3', 'kpop_channell', 'ashabolyamin2', 'turksel', 'shopingmehr', 'shahidrahvlayatchaghervand', 'Loove_city', 'Tah_khear', 'Zekr_allah', 'Souz_delan', 'andisheh_eshgh_', 'Gvarzeshi3New', 'sepahaneesfahann', 'janjahan.ir', 'mzmran']\n",
      "['Nixonaccshop1', 'hndgamer', 'bazibaz.ir', 'lego__legacy', 'ANDROIDxGAMES', 'lego.city', 'gameplay008', 'progamer1', 'Gamersworldd', 'bazigameply', 'mainecraftiha', 'Area_Game', 'bazarmaikt', 'Minecraftabad', 'Mine_world', 'spotify_account']\n",
      "['bargi_az_salamati', 'asraare_salamati', 'tebsonati24', 'shamimislamiclife', 'pishgiri.darman', 'tebb_ebnesina', 'mavshoma20', 'tebzanashouei', 'safiranesalamatetehran', 'Hakim_ravazadeh', 'mumspr', 'zendegichannel', 'zalo_d', 'salamatbashid11', 'Dr20shayan']\n",
      "['yaraneemam', 'dgkalacom', 'eshghefilm', 'Outbears', 'bachehhaymadarpahloshekasteh', 'bachehhaymadarpahloshekasteh.ir', 'sedaghatdarghalam', 'alememojahed_malekhosseini', 'efaf313hejab', 'Nixonaccshop1', 'ROCK4ever4REAL', 'rahbarmane', 'crtoonland', 'masjed_emam_reza', 'dokhtraybeheshti', 'dokhtar_khass', 'return9_9', 'persepolisnewspage', 'nojo_andishkade', 'ROCK4ever4REAL', 'EyVey.', 'bachehhaymadarpahloshekasteh.ir', 'bachehhaymadarpahloshekasteh', 'Storyefake', 'mranir_meshkat.', 'Hejabfatemy', 'ngvnjnkhb', 'FOOTBALLBARTAR.TV3', 'kpop_channell', 'ashabolyamin2', 'turksel', 'shopingmehr', 'shahidrahvlayatchaghervand', 'Loove_city', 'Tah_khear', 'Zekr_allah', 'Souz_delan', 'andisheh_eshgh_', 'Gvarzeshi3New', 'sepahaneesfahann', 'janjahan.ir', 'mzmran']\n",
      "['ROCK4ever4REAL', 'ROCK4ever4REAL', 'music.fa1', 'mocige.ir', 'music.r.ir', 'Systemmusic.ir', 'music_persian_iraan', 'Mehrab.iha', 'music_persian_ir', '16blackpink', 'mooje_tarane', 'hip_hoplovew', 'eidsepherhashemidehkordy', 'pershian.music', 'Savarnm', 'ahang.bomb']\n",
      "['tabiate_shomall', 'golgol98', 'listgolha', 'kohnavarditehran', 'Samosh', 'ehyae_kashte_mosmer']\n",
      "['khabarname_iran', 'ukashmar', 'iranianukraine', 'mardom_press', 'Seday_roudbarjonoob', 'titre.khabar', 'SdayKerman', 'rssnews', 'iran_newz_nzame', 'fahmanews', 'zagrosyan1', 'policekish', 'basirat_fa', 'akhbar_foriia', 'Tabasya']\n",
      "['Storyefake', 'tasvir_h', 'wallpaper_land000', 'profailhd', 'qwertyuioprt', 'stiker3', 'wallpaper.photo', 'Aksprofail_shik', 'ax.text', 'baniaks', 'linkedon_soroush', 'ghamar_graph', 'akse_porofil', 'background_hd_topp', 'ak3por']\n",
      "['persepolisnewspage', 'FOOTBALLBARTAR.TV3', 'Gvarzeshi3New', 'sepahaneesfahann', 'wallpaper_guy', 'tanzvarzeahi', 'championsfootballi', 'linkfottbali', 'basketballi_ha_2020', 'taekwondokaram', 'Taekwondo', 'Amozesh_futball', 'fcprespolis', 'starperspolis2', 'scopedp2020']\n",
      "['faza.zaman', 'agaybwahshatnak', 'ajib_jaleb', 'Facts_brooz', 'howzehpajohesh', 'inmostfriends', 'sansortarikh', 'nojumferdows_01', 'iran5555', 'elm_daneshh', 'mstss.ir', 'Danestani_2019', 'danesht', 'tarfandis', 'saaedu']\n",
      "['m_computer', 'Shahaabco', 'etrobot', 'signal98', 'botlist', 'indexme', 'mja_graphic', 'ghaleb_karbari', 'modern_afrough', 'PsnSeller_Best', 'mofidcomputer', 'shomaraan', 'khabar_i.t', 'info_wordpress', 'Amoozeshandroid']\n",
      "['starstudio.official', 'funbahal', 'sorosh_tvs', 'video_culob', 'ifilm_hendi', 'sabalanirib', 'Cat.kh', 'Fan.tv', 'cvbnma', 'inestegram_clip', 'iribevimgararim', 'alkawtharchannel', 'clup_janjaliha', 'mostanad_plus', 'cafedubsmash']\n",
      "['ngvnjnkhb', 'tolouanor', 'linkd0oni', 'member._.store', 'moaydibutik2', 'Linkdonilory', 'Shahidgoli3', 'linkdon1', 'linkcell', 'kafkhab_irany', 'linkdoni_iran', 'linkdoni_lirani', 'makepowerpoint', 'ndco.ahwaz', 'tondar_tab2']\n",
      "['Outbears', 'Sablino2', 'آینده سازان', 'Coin_Service', 'Olymptrade4', 'Pooyan__', 'chinestan', 'Bors7', 'carorg', 'akhbar24h', 'pooshakitak', 'BitKoin_ir', 'Laleh_store', 'samantilestonetbz', 'offerisfahan', 'mahsolatarzan']\n",
      "['bachehhaymadarpahloshekasteh.ir', 'bachehhaymadarpahloshekasteh', 'alememojahed_malekhosseini', 'rahbarmane', 'yaraneemam', 'masjed_emam_reza', 'dokhtraybeheshti', 'dokhtar_khass', 'return9_9', 'nojo_andishkade', 'bachehhaymadarpahloshekasteh.ir', 'bachehhaymadarpahloshekasteh', 'mranir_meshkat.', 'Hejabfatemy', 'ashabolyamin2', 'shahidrahvlayatchaghervand', 'Zekr_allah', 'janjahan.ir', 'mzmran', 'qmmran']\n",
      "['khanoomekhune', 'parsmfars', 'ashpaze_nemone', 'nokat_ashpazi1', 'simayekhanevade1', 'ashpazs1', 'chichi_products', 'bkhane', 'bekhaneh', 'ashpaziyetorkiyei', 'ashpazichas', 'Kitkat_shop', 'mazehbaazi', 'IranianCookery', 'Sarashpazy']\n",
      "['Loove_city', 'Souz_delan', 'andisheh_eshgh_', 'pejmeh', 'romanhd', 'Ciel_gris', 'porofayl.nab', 'aks.porofayl', 'romancelean', 'jdjcjj', 'Nabtarin_text', 'avaye_baran1', 'Arezouyeman', 'ashghbikaran', 'biografei']\n",
      "['eshghefilm', 'kpop_channell', 'turksel', 'filmir.', 'Korea_lovely', 'bazimoontv3', 'filmov_ir', 'multiland', 'danlod__film', 'film_house', 'eshghefilm', 'clupmasoumieh38823419', 'bacupirani', 'film.seryal.kharej', 'world_media_milad', 'film.seryal.iran.kharej']\n",
      "['dgkalacom', 'shopingmehr', 'Hishopir', 'bazarche', 'ketabkaraj', 'DigiYabi', 'Cafezibaiiha', 'xKHORSHIDx', 'jump_sport10', 'lavazemkhanegisarvari', 'mahsolatebarkat', 'fereshtekochoolooo', 'Armanpoosh', 'kafshebot', 'harajes', 'kala.shop1']\n"
     ]
    }
   ],
   "source": [
    "import numpy as np\n",
    "categories = ['animals','anime','art-design','architecture','auto-moto','celebrities','education','travel',\n",
    "           'fashion-beauty','food','feetness','gaming','health','magezine','music','nature','news','photo','sport',\n",
    "             'science','technology','video','other','economic','religion','cooking','Romantic','movie','shop']\n",
    "my_ids = []\n",
    "j = 1\n",
    "channels ={}\n",
    "channels['iribnews'] = [-1,0]\n",
    "for i in categories:\n",
    "    url='https://mychannels.ir/soroush/'+i\n",
    "    ids = news(url)\n",
    "    print(ids)\n",
    "    for d in ids:\n",
    "        channels[d] = [-1,j]\n",
    "        j+=1\n",
    "        my_ids.append(d)\n",
    "    "
   ]
  },
  {
   "cell_type": "code",
   "execution_count": 12,
   "metadata": {},
   "outputs": [],
   "source": [
    "# channels"
   ]
  },
  {
   "cell_type": "code",
   "execution_count": 4,
   "metadata": {},
   "outputs": [],
   "source": [
    "# !python -m pip install pykafka\n",
    "\n",
    "import hashlib\n",
    "import requests\n",
    "import json\n",
    "from time import sleep\n",
    "import sseclient\n",
    "def get_channel_data(channel_name, size, last_message_id):\n",
    "    endpoint = 'channel/archive'\n",
    "    a = \"95d58639\"\n",
    "    b = \"24c0\"\n",
    "    c = \"4b72\"\n",
    "    d = \"80a5\"\n",
    "    f = \"e124f41d7af9\"\n",
    "    api_secret = \"-\".join([a,b,c,d,f])\n",
    "    api_resource = 'channel/archive'\n",
    "    clinet_id = '7743461522282941752'\n",
    "    format = 'json'\n",
    "    api_version = 'v1'\n",
    "    if last_message_id != -1:\n",
    "        message = f'{{\"channel_id\":\"{channel_name}\", \"limit\": {size}, \"message_id\": \"{last_message_id}\"}}'\n",
    "    else:\n",
    "        message = f'{{\"channel_id\":\"{channel_name}\", \"limit\": {size}}}'\n",
    "    digest = hashlib.md5((api_secret+api_version+format+clinet_id+api_resource+message).encode('utf-8')).hexdigest()\n",
    "    url = f\"https://what.sapp.ir/srvcs-app/v1/json/7743461522282941752/{digest}/channel/archive\"\n",
    "    headers = {\n",
    "        'User-Agent': 'Mozilla/5.0 (Macintosh; Intel Mac OS X 10_15_2) AppleWebKit/537.36 (KHTML, like Gecko) Chrome/83.0.4103.116 Safari/537.36',\n",
    "        'keep_alive':'False'\n",
    "    }\n",
    "    \n",
    "\n",
    "    rq = requests.post(url, data = message.encode(\"utf-8\"), headers=headers)\n",
    "    res = json.loads(rq.text)\n",
    "    return res"
   ]
  },
  {
   "cell_type": "code",
   "execution_count": 14,
   "metadata": {},
   "outputs": [
    {
     "name": "stdout",
     "output_type": "stream",
     "text": [
      "*\n"
     ]
    },
    {
     "ename": "KeyboardInterrupt",
     "evalue": "",
     "output_type": "error",
     "traceback": [
      "\u001b[1;31m---------------------------------------------------------------------------\u001b[0m",
      "\u001b[1;31mKeyboardInterrupt\u001b[0m                         Traceback (most recent call last)",
      "\u001b[1;32m<ipython-input-14-fe6eb8076c21>\u001b[0m in \u001b[0;36m<module>\u001b[1;34m\u001b[0m\n\u001b[0;32m     28\u001b[0m                 \u001b[1;32mwith\u001b[0m \u001b[0mtopic\u001b[0m\u001b[1;33m.\u001b[0m\u001b[0mget_sync_producer\u001b[0m\u001b[1;33m(\u001b[0m\u001b[1;33m)\u001b[0m \u001b[1;32mas\u001b[0m \u001b[0mproducer\u001b[0m\u001b[1;33m:\u001b[0m\u001b[1;33m\u001b[0m\u001b[1;33m\u001b[0m\u001b[0m\n\u001b[0;32m     29\u001b[0m                     \u001b[0mproducer\u001b[0m\u001b[1;33m.\u001b[0m\u001b[0mproduce\u001b[0m\u001b[1;33m(\u001b[0m\u001b[0mbytes\u001b[0m\u001b[1;33m(\u001b[0m\u001b[0mstr\u001b[0m\u001b[1;33m(\u001b[0m\u001b[0mout\u001b[0m\u001b[1;33m[\u001b[0m\u001b[1;34m'messages'\u001b[0m\u001b[1;33m]\u001b[0m\u001b[1;33m[\u001b[0m\u001b[1;36m0\u001b[0m\u001b[1;33m]\u001b[0m\u001b[1;33m)\u001b[0m\u001b[1;33m,\u001b[0m \u001b[0mencoding\u001b[0m\u001b[1;33m=\u001b[0m\u001b[1;34m'utf-8'\u001b[0m\u001b[1;33m)\u001b[0m\u001b[1;33m)\u001b[0m\u001b[1;33m\u001b[0m\u001b[1;33m\u001b[0m\u001b[0m\n\u001b[1;32m---> 30\u001b[1;33m     \u001b[0msleep\u001b[0m\u001b[1;33m(\u001b[0m\u001b[1;36m60\u001b[0m\u001b[1;33m)\u001b[0m\u001b[1;33m\u001b[0m\u001b[1;33m\u001b[0m\u001b[0m\n\u001b[0m",
      "\u001b[1;31mKeyboardInterrupt\u001b[0m: "
     ]
    }
   ],
   "source": [
    "import re\n",
    "from pykafka import KafkaClient\n",
    "client = KafkaClient(hosts=\"127.0.0.1:9092\")\n",
    "topic = client.topics[\"final\"]\n",
    "\n",
    "main_words = ['بورس','اقتصاد','تحریم','دولت','دلار','طلا','کرونا','شاخص بورس','تورم','دانشگاه','سقوط','رشد']\n",
    "channels = {'iribnews':[-1,0]}\n",
    "while(True):\n",
    "    for channel,msgid in channels.items():\n",
    "        out = get_channel_data(channel,2,-1)\n",
    "        if type(out) == list:\n",
    "#             print('Oops')\n",
    "            continue\n",
    "#         print(out)\n",
    "        if(out['total']>0):\n",
    "            if(out['messages'][0]['message_id'] != msgid[0]):\n",
    "                channels[channel][0] = out['messages'][0]['message_id']\n",
    "                out['messages'][0]['index'] = msgid[1]\n",
    "                out['messages'][0]['metadata'] = [tag.strip(\"#\") for tag in out['messages'][0]['text'].split() if tag.startswith(\"#\")] + out['messages'][0]['frequency_word'] + [word for word in main_words if word in out['messages'][0]['text']]\n",
    "                out['messages'][0]['hashtags'] = [tag.strip(\"#\") for tag in out['messages'][0]['text'].split() if tag.startswith(\"#\")]\n",
    "                out['messages'][0]['links'] = re.findall(r'(https?://[^\\s]+)', out['messages'][0]['text'])\n",
    "                if out['messages'][0]['file']['extention']=='jpg':\n",
    "                    out['messages'][0]['images'] = [out['messages'][0]['file']['url']]\n",
    "                else :\n",
    "                    out['messages'][0]['images'] = []\n",
    "    #             print(out['messages'][0])\n",
    "                print('*')\n",
    "                with topic.get_sync_producer() as producer:\n",
    "                    producer.produce(bytes(str(out['messages'][0]), encoding='utf-8'))\n",
    "    sleep(60)\n"
   ]
  },
  {
   "cell_type": "code",
   "execution_count": null,
   "metadata": {},
   "outputs": [],
   "source": []
  }
 ],
 "metadata": {
  "kernelspec": {
   "display_name": "Python 3",
   "language": "python",
   "name": "python3"
  },
  "language_info": {
   "codemirror_mode": {
    "name": "ipython",
    "version": 3
   },
   "file_extension": ".py",
   "mimetype": "text/x-python",
   "name": "python",
   "nbconvert_exporter": "python",
   "pygments_lexer": "ipython3",
   "version": "3.7.1"
  }
 },
 "nbformat": 4,
 "nbformat_minor": 2
}
