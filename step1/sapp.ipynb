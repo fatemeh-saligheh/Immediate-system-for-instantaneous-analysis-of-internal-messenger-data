{
 "cells": [
  {
   "cell_type": "markdown",
   "metadata": {},
   "source": [
    "# kafka"
   ]
  },
  {
   "cell_type": "code",
   "execution_count": 1,
   "metadata": {},
   "outputs": [],
   "source": [
    "# !python -m pip install pykafka\n",
    "# !python -m pip install kafka-python\n",
    "from pykafka import KafkaClient\n",
    "# from kafka import KafkaProducer\n",
    "# producer = KafkaProducer(bootstrap_servers='localhost:9092')\n",
    "client = KafkaClient(hosts=\"127.0.0.1:9092\")\n",
    "topic = client.topics[\"final\"]"
   ]
  },
  {
   "cell_type": "code",
   "execution_count": 2,
   "metadata": {},
   "outputs": [
    {
     "data": {
      "text/plain": [
       "<pykafka.topic.Topic at 0x2bc458a7518 (name=b'final')>"
      ]
     },
     "execution_count": 2,
     "metadata": {},
     "output_type": "execute_result"
    }
   ],
   "source": [
    "topic"
   ]
  },
  {
   "cell_type": "code",
   "execution_count": 3,
   "metadata": {},
   "outputs": [],
   "source": [
    "import hashlib\n",
    "import requests\n",
    "import json\n",
    "from time import sleep\n",
    "import sseclient\n",
    "def get_channel_data(channel_name, size, last_message_id):\n",
    "    endpoint = 'channel/archive'\n",
    "    a = \"95d58639\"\n",
    "    b = \"24c0\"\n",
    "    c = \"4b72\"\n",
    "    d = \"80a5\"\n",
    "    f = \"e124f41d7af9\"\n",
    "    api_secret = \"-\".join([a,b,c,d,f])\n",
    "    api_resource = 'channel/archive'\n",
    "    clinet_id = '7743461522282941752'\n",
    "    format = 'json'\n",
    "    api_version = 'v1'\n",
    "    if last_message_id != -1:\n",
    "        message = f'{{\"channel_id\":\"{channel_name}\", \"limit\": {size}, \"message_id\": \"{last_message_id}\"}}'\n",
    "    else:\n",
    "        message = f'{{\"channel_id\":\"{channel_name}\", \"limit\": {size}}}'\n",
    "    digest = hashlib.md5((api_secret+api_version+format+clinet_id+api_resource+message).encode('utf-8')).hexdigest()\n",
    "    url = f\"https://what.sapp.ir/srvcs-app/v1/json/7743461522282941752/{digest}/channel/archive\"\n",
    "    headers = {\n",
    "        'User-Agent': 'Mozilla/5.0 (Macintosh; Intel Mac OS X 10_15_2) AppleWebKit/537.36 (KHTML, like Gecko) Chrome/83.0.4103.116 Safari/537.36',\n",
    "        'keep_alive':'False'\n",
    "    }\n",
    "    \n",
    "\n",
    "    rq = requests.post(url, data = message.encode(\"utf-8\"), headers=headers)\n",
    "    res = json.loads(rq.text)\n",
    "    return res"
   ]
  },
  {
   "cell_type": "code",
   "execution_count": 5,
   "metadata": {},
   "outputs": [
    {
     "ename": "KeyboardInterrupt",
     "evalue": "",
     "output_type": "error",
     "traceback": [
      "\u001b[1;31m---------------------------------------------------------------------------\u001b[0m",
      "\u001b[1;31mKeyboardInterrupt\u001b[0m                         Traceback (most recent call last)",
      "\u001b[1;32m<ipython-input-5-b9e3d52f46f3>\u001b[0m in \u001b[0;36m<module>\u001b[1;34m\u001b[0m\n\u001b[0;32m     21\u001b[0m             \u001b[1;32mwith\u001b[0m \u001b[0mtopic\u001b[0m\u001b[1;33m.\u001b[0m\u001b[0mget_sync_producer\u001b[0m\u001b[1;33m(\u001b[0m\u001b[1;33m)\u001b[0m \u001b[1;32mas\u001b[0m \u001b[0mproducer\u001b[0m\u001b[1;33m:\u001b[0m\u001b[1;33m\u001b[0m\u001b[1;33m\u001b[0m\u001b[0m\n\u001b[0;32m     22\u001b[0m                 \u001b[0mproducer\u001b[0m\u001b[1;33m.\u001b[0m\u001b[0mproduce\u001b[0m\u001b[1;33m(\u001b[0m\u001b[0mbytes\u001b[0m\u001b[1;33m(\u001b[0m\u001b[0mstr\u001b[0m\u001b[1;33m(\u001b[0m\u001b[0mout\u001b[0m\u001b[1;33m[\u001b[0m\u001b[1;34m'messages'\u001b[0m\u001b[1;33m]\u001b[0m\u001b[1;33m[\u001b[0m\u001b[1;36m0\u001b[0m\u001b[1;33m]\u001b[0m\u001b[1;33m)\u001b[0m\u001b[1;33m,\u001b[0m \u001b[0mencoding\u001b[0m\u001b[1;33m=\u001b[0m\u001b[1;34m'utf-8'\u001b[0m\u001b[1;33m)\u001b[0m\u001b[1;33m)\u001b[0m\u001b[1;33m\u001b[0m\u001b[1;33m\u001b[0m\u001b[0m\n\u001b[1;32m---> 23\u001b[1;33m     \u001b[0msleep\u001b[0m\u001b[1;33m(\u001b[0m\u001b[1;36m60\u001b[0m\u001b[1;33m)\u001b[0m\u001b[1;33m\u001b[0m\u001b[1;33m\u001b[0m\u001b[0m\n\u001b[0m",
      "\u001b[1;31mKeyboardInterrupt\u001b[0m: "
     ]
    }
   ],
   "source": [
    "import re\n",
    "channels = {'bigproj':[-1],'tasnimna':[-1],'farsna':[-1],'iribnews':[-1],'webda':[-1]}\n",
    "main_words = ['بورس','اقتصاد','تحریم','دولت','دلار','طلا','کرونا','شاخص بورس','تورم','دانشگاه','سقوط','رشد']\n",
    "# channels = {'iribnews':[-1,0]}\n",
    "while(True):\n",
    "    for channel,msgid in channels.items():\n",
    "        out = get_channel_data(channel,2,-1)\n",
    "        if(out['messages'][0]['message_id'] != msgid[0]):\n",
    "            channels[channel][0] = out['messages'][0]['message_id']\n",
    "            out['messages'][0]['index'] = 6\n",
    "            out['messages'][0]['metadata'] = [tag.strip(\"#\") for tag in out['messages'][0]['text'].split() if tag.startswith(\"#\")] + out['messages'][0]['frequency_word'] + [word for word in main_words if word in out['messages'][0]['text']]\n",
    "            out['messages'][0]['hashtags'] = [tag.strip(\"#\") for tag in out['messages'][0]['text'].split() if tag.startswith(\"#\")]\n",
    "            out['messages'][0]['links'] = re.findall(r'(https?://[^\\s]+)', out['messages'][0]['text'])\n",
    "            if out['messages'][0]['file']['extention']=='jpg':\n",
    "                out['messages'][0]['images'] = [out['messages'][0]['file']['url']]\n",
    "            else :\n",
    "                out['messages'][0]['images'] = []\n",
    "#             print(out['messages'][0])\n",
    "#             print(' ')\n",
    "#             publish_message(kafka_producer, 'test', 'raw', out['messages'][0])\n",
    "            with topic.get_sync_producer() as producer:\n",
    "                producer.produce(bytes(str(out['messages'][0]), encoding='utf-8'))\n",
    "    sleep(60)\n"
   ]
  },
  {
   "cell_type": "code",
   "execution_count": null,
   "metadata": {},
   "outputs": [],
   "source": []
  }
 ],
 "metadata": {
  "kernelspec": {
   "display_name": "Python 3",
   "language": "python",
   "name": "python3"
  },
  "language_info": {
   "codemirror_mode": {
    "name": "ipython",
    "version": 3
   },
   "file_extension": ".py",
   "mimetype": "text/x-python",
   "name": "python",
   "nbconvert_exporter": "python",
   "pygments_lexer": "ipython3",
   "version": "3.7.1"
  }
 },
 "nbformat": 4,
 "nbformat_minor": 2
}
