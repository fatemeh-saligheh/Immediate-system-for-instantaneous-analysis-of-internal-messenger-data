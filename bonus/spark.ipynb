{
 "cells": [
  {
   "cell_type": "code",
   "execution_count": 11,
   "metadata": {},
   "outputs": [
    {
     "name": "stdout",
     "output_type": "stream",
     "text": [
      "Requirement already satisfied: pandas in c:\\users\\fatemeh saligheh\\anaconda3\\lib\\site-packages (1.0.3)\n",
      "Requirement already satisfied: python-dateutil>=2.6.1 in c:\\users\\fatemeh saligheh\\anaconda3\\lib\\site-packages (from pandas) (2.8.1)\n",
      "Requirement already satisfied: numpy>=1.13.3 in c:\\users\\fatemeh saligheh\\anaconda3\\lib\\site-packages (from pandas) (1.18.3)\n",
      "Requirement already satisfied: pytz>=2017.2 in c:\\users\\fatemeh saligheh\\anaconda3\\lib\\site-packages (from pandas) (2020.1)\n",
      "Requirement already satisfied: six>=1.5 in c:\\users\\fatemeh saligheh\\anaconda3\\lib\\site-packages (from python-dateutil>=2.6.1->pandas) (1.15.0)\n"
     ]
    }
   ],
   "source": [
    "!python -m pip install pyspark==2.4.6"
   ]
  },
  {
   "cell_type": "code",
   "execution_count": 1,
   "metadata": {},
   "outputs": [],
   "source": [
    "import pandas"
   ]
  },
  {
   "cell_type": "code",
   "execution_count": 1,
   "metadata": {},
   "outputs": [],
   "source": [
    "from pyspark import SparkContext, SparkConf\n",
    "from pyspark.sql import SQLContext"
   ]
  },
  {
   "cell_type": "code",
   "execution_count": 2,
   "metadata": {},
   "outputs": [],
   "source": [
    "conf = SparkConf()\\\n",
    "    .setAppName(\"Python Script for getting the table 'favorite foods'\")\\\n",
    "    .setMaster(\"local[*]\") \\\n",
    "    .set('spark.jars','spark-cassandra-connector-2.4.0-s_2.11.jar')"
   ]
  },
  {
   "cell_type": "code",
   "execution_count": 3,
   "metadata": {},
   "outputs": [],
   "source": [
    "sc = SparkContext(conf=conf)"
   ]
  },
  {
   "cell_type": "code",
   "execution_count": 4,
   "metadata": {},
   "outputs": [],
   "source": [
    "sqlContext = SQLContext(sc)"
   ]
  },
  {
   "cell_type": "code",
   "execution_count": 5,
   "metadata": {},
   "outputs": [],
   "source": [
    "df = sqlContext.read.format(\"org.apache.spark.sql.cassandra\")\\\n",
    ".options(table=\"all_channels\", keyspace=\"final4\").load()"
   ]
  },
  {
   "cell_type": "code",
   "execution_count": 17,
   "metadata": {},
   "outputs": [],
   "source": [
    "from pyspark.sql import functions as F\n",
    "train_data = df.where(F.col('channel_id') =='iribnews').\\\n",
    "groupby(F.col('date').alias('ds')).agg(F.count(F.lit(1)).alias(\"y\")).sort('ds')\n",
    "\n",
    "\n",
    "# train_data = df.groupby(F.col('date').alias('ds')).agg(F.count(F.lit(1)).alias(\"y\")).sort('ds')"
   ]
  },
  {
   "cell_type": "code",
   "execution_count": 18,
   "metadata": {},
   "outputs": [],
   "source": [
    "train_data = train_data.toPandas()"
   ]
  },
  {
   "cell_type": "code",
   "execution_count": 19,
   "metadata": {},
   "outputs": [
    {
     "name": "stdout",
     "output_type": "stream",
     "text": [
      "['2020-08-10 09:09:00', '2020-08-10 09:30:00', '2020-08-10 09:39:00', '2020-08-10 09:44:00', '2020-08-10 09:49:00', '2020-08-10 10:01:00', '2020-08-10 10:04:00', '2020-08-10 10:16:00', '2020-08-10 10:31:00', '2020-08-10 10:46:00', '2020-08-10 10:55:00', '2020-08-10 11:10:00', '2020-08-10 11:20:00', '2020-08-10 11:26:00', '2020-08-10 11:32:00', '2020-08-10 11:33:00', '2020-08-10 11:57:00', '2020-08-11 12:06:00', '2020-08-11 12:54:00', '2020-08-11 13:07:00', '2020-08-11 13:25:00', '2020-08-12 07:10:00', '2020-08-12 07:23:00', '2020-08-12 07:33:00', '2020-08-12 07:47:00', '2020-08-12 08:02:00', '2020-08-12 08:13:00', '2020-08-12 08:27:00', '2020-08-12 08:40:00', '2020-08-12 08:47:00', '2020-08-12 08:56:00', '2020-08-12 10:02:00', '2020-08-12 10:13:00', '2020-08-12 10:23:00', '2020-08-12 10:47:00', '2020-08-12 11:04:00', '2020-08-12 11:22:00', '2020-08-12 11:33:00', '2020-08-12 11:47:00']\n"
     ]
    }
   ],
   "source": [
    "print(list(train_data['ds']))"
   ]
  },
  {
   "cell_type": "code",
   "execution_count": 20,
   "metadata": {},
   "outputs": [],
   "source": [
    "from datetime import datetime, timedelta\n",
    "st = train_data.iloc[0]['ds']\n",
    "en = train_data.iloc[len(train_data)-1]['ds']\n",
    "def datetime_range(start, end, delta):\n",
    "    current = start\n",
    "    while current < end:\n",
    "        yield current\n",
    "        current += delta\n",
    "\n",
    "# dts = [dt.strftime('%Y-%m-%d %H:%M:00') for dt in datetime_range(datetime(int(st[:4]),int(st[5:7]),int(st[8:10]),int(st[11:13])), datetime(int(en[:4]),int(en[5:7]),int(en[8:10]),int(en[11:13])+1),timedelta(minutes=1))]\n",
    "dts = [dt.strftime('%Y-%m-%d %H:%M:00') for dt in datetime_range(datetime(2020,8,10,7), datetime(2020,8,12,12),timedelta(minutes=1))]"
   ]
  },
  {
   "cell_type": "code",
   "execution_count": 21,
   "metadata": {},
   "outputs": [],
   "source": [
    "y=[0 for i in range(len(dts))]\n",
    "for i in range(len(dts)):\n",
    "    if dts[i] in list(train_data['ds']):\n",
    "        y[i] = train_data[train_data['ds']==dts[i]]['y'].item()"
   ]
  },
  {
   "cell_type": "code",
   "execution_count": 22,
   "metadata": {},
   "outputs": [],
   "source": [
    "import pandas as pd\n",
    "# intialise data of lists. \n",
    "d = {'ds':dts, 'y':y} \n",
    "  \n",
    "# Create DataFrame \n",
    "df_train = pd.DataFrame(d)"
   ]
  },
  {
   "cell_type": "code",
   "execution_count": 23,
   "metadata": {},
   "outputs": [],
   "source": [
    "df1 = df_train[df_train['y']==0].sample(len(df_train[df_train['y']==0])-len(df_train[df_train['y']==1]))\n",
    "df_train = df_train[~df_train.index.isin(df1.index)]"
   ]
  },
  {
   "cell_type": "code",
   "execution_count": 24,
   "metadata": {},
   "outputs": [
    {
     "data": {
      "text/plain": [
       "39"
      ]
     },
     "execution_count": 24,
     "metadata": {},
     "output_type": "execute_result"
    }
   ],
   "source": [
    "len(df_train[df_train['y']==1])"
   ]
  },
  {
   "cell_type": "code",
   "execution_count": 25,
   "metadata": {},
   "outputs": [
    {
     "name": "stderr",
     "output_type": "stream",
     "text": [
      "INFO:fbprophet:Disabling yearly seasonality. Run prophet with yearly_seasonality=True to override this.\n",
      "INFO:fbprophet:Disabling weekly seasonality. Run prophet with weekly_seasonality=True to override this.\n",
      "C:\\Users\\Fatemeh Saligheh\\Anaconda3\\lib\\site-packages\\fbprophet\\forecaster.py:400: FutureWarning: The pandas.datetime class is deprecated and will be removed from pandas in a future version. Import from datetime module instead.\n",
      "  (dates - pd.datetime(1970, 1, 1))\n"
     ]
    }
   ],
   "source": [
    "from fbprophet import Prophet\n",
    "m = Prophet().fit(df_train)\n",
    "\n"
   ]
  },
  {
   "cell_type": "code",
   "execution_count": 26,
   "metadata": {},
   "outputs": [],
   "source": [
    "future = m.make_future_dataframe(periods=3*24*60, freq='min', include_history =True)\n",
    "fcst = m.predict(future)\n"
   ]
  },
  {
   "cell_type": "code",
   "execution_count": 27,
   "metadata": {},
   "outputs": [
    {
     "data": {
      "image/png": "[encoded data removed]",
      "text/plain": [
       "<Figure size 720x432 with 1 Axes>"
      ]
     },
     "metadata": {},
     "output_type": "display_data"
    }
   ],
   "source": [
    "from matplotlib import pyplot\n",
    "fig = m.plot(fcst)"
   ]
  },
  {
   "cell_type": "code",
   "execution_count": 28,
   "metadata": {},
   "outputs": [
    {
     "data": {
      "text/html": [
       "<div>\n",
       "<style scoped>\n",
       "    .dataframe tbody tr th:only-of-type {\n",
       "        vertical-align: middle;\n",
       "    }\n",
       "\n",
       "    .dataframe tbody tr th {\n",
       "        vertical-align: top;\n",
       "    }\n",
       "\n",
       "    .dataframe thead th {\n",
       "        text-align: right;\n",
       "    }\n",
       "</style>\n",
       "<table border=\"1\" class=\"dataframe\">\n",
       "  <thead>\n",
       "    <tr style=\"text-align: right;\">\n",
       "      <th></th>\n",
       "      <th>ds</th>\n",
       "      <th>trend</th>\n",
       "      <th>yhat_lower</th>\n",
       "      <th>yhat_upper</th>\n",
       "      <th>trend_lower</th>\n",
       "      <th>trend_upper</th>\n",
       "      <th>additive_terms</th>\n",
       "      <th>additive_terms_lower</th>\n",
       "      <th>additive_terms_upper</th>\n",
       "      <th>daily</th>\n",
       "      <th>daily_lower</th>\n",
       "      <th>daily_upper</th>\n",
       "      <th>multiplicative_terms</th>\n",
       "      <th>multiplicative_terms_lower</th>\n",
       "      <th>multiplicative_terms_upper</th>\n",
       "      <th>yhat</th>\n",
       "    </tr>\n",
       "  </thead>\n",
       "  <tbody>\n",
       "    <tr>\n",
       "      <th>0</th>\n",
       "      <td>2020-08-10 08:15:00</td>\n",
       "      <td>0.096015</td>\n",
       "      <td>0.013495</td>\n",
       "      <td>0.937602</td>\n",
       "      <td>0.096015</td>\n",
       "      <td>0.096015</td>\n",
       "      <td>0.392628</td>\n",
       "      <td>0.392628</td>\n",
       "      <td>0.392628</td>\n",
       "      <td>0.392628</td>\n",
       "      <td>0.392628</td>\n",
       "      <td>0.392628</td>\n",
       "      <td>0.0</td>\n",
       "      <td>0.0</td>\n",
       "      <td>0.0</td>\n",
       "      <td>0.488644</td>\n",
       "    </tr>\n",
       "    <tr>\n",
       "      <th>1</th>\n",
       "      <td>2020-08-10 09:09:00</td>\n",
       "      <td>0.099839</td>\n",
       "      <td>0.137015</td>\n",
       "      <td>1.084295</td>\n",
       "      <td>0.099839</td>\n",
       "      <td>0.099839</td>\n",
       "      <td>0.498992</td>\n",
       "      <td>0.498992</td>\n",
       "      <td>0.498992</td>\n",
       "      <td>0.498992</td>\n",
       "      <td>0.498992</td>\n",
       "      <td>0.498992</td>\n",
       "      <td>0.0</td>\n",
       "      <td>0.0</td>\n",
       "      <td>0.0</td>\n",
       "      <td>0.598831</td>\n",
       "    </tr>\n",
       "    <tr>\n",
       "      <th>2</th>\n",
       "      <td>2020-08-10 09:21:00</td>\n",
       "      <td>0.100689</td>\n",
       "      <td>0.125728</td>\n",
       "      <td>1.066251</td>\n",
       "      <td>0.100689</td>\n",
       "      <td>0.100689</td>\n",
       "      <td>0.519898</td>\n",
       "      <td>0.519898</td>\n",
       "      <td>0.519898</td>\n",
       "      <td>0.519898</td>\n",
       "      <td>0.519898</td>\n",
       "      <td>0.519898</td>\n",
       "      <td>0.0</td>\n",
       "      <td>0.0</td>\n",
       "      <td>0.0</td>\n",
       "      <td>0.620587</td>\n",
       "    </tr>\n",
       "    <tr>\n",
       "      <th>3</th>\n",
       "      <td>2020-08-10 09:30:00</td>\n",
       "      <td>0.101326</td>\n",
       "      <td>0.139469</td>\n",
       "      <td>1.115791</td>\n",
       "      <td>0.101326</td>\n",
       "      <td>0.101326</td>\n",
       "      <td>0.535098</td>\n",
       "      <td>0.535098</td>\n",
       "      <td>0.535098</td>\n",
       "      <td>0.535098</td>\n",
       "      <td>0.535098</td>\n",
       "      <td>0.535098</td>\n",
       "      <td>0.0</td>\n",
       "      <td>0.0</td>\n",
       "      <td>0.0</td>\n",
       "      <td>0.636424</td>\n",
       "    </tr>\n",
       "    <tr>\n",
       "      <th>4</th>\n",
       "      <td>2020-08-10 09:39:00</td>\n",
       "      <td>0.101963</td>\n",
       "      <td>0.168738</td>\n",
       "      <td>1.104450</td>\n",
       "      <td>0.101963</td>\n",
       "      <td>0.101963</td>\n",
       "      <td>0.549855</td>\n",
       "      <td>0.549855</td>\n",
       "      <td>0.549855</td>\n",
       "      <td>0.549855</td>\n",
       "      <td>0.549855</td>\n",
       "      <td>0.549855</td>\n",
       "      <td>0.0</td>\n",
       "      <td>0.0</td>\n",
       "      <td>0.0</td>\n",
       "      <td>0.651819</td>\n",
       "    </tr>\n",
       "    <tr>\n",
       "      <th>...</th>\n",
       "      <td>...</td>\n",
       "      <td>...</td>\n",
       "      <td>...</td>\n",
       "      <td>...</td>\n",
       "      <td>...</td>\n",
       "      <td>...</td>\n",
       "      <td>...</td>\n",
       "      <td>...</td>\n",
       "      <td>...</td>\n",
       "      <td>...</td>\n",
       "      <td>...</td>\n",
       "      <td>...</td>\n",
       "      <td>...</td>\n",
       "      <td>...</td>\n",
       "      <td>...</td>\n",
       "      <td>...</td>\n",
       "    </tr>\n",
       "    <tr>\n",
       "      <th>4393</th>\n",
       "      <td>2020-08-15 11:43:00</td>\n",
       "      <td>0.620571</td>\n",
       "      <td>0.776691</td>\n",
       "      <td>1.683913</td>\n",
       "      <td>0.620571</td>\n",
       "      <td>0.620571</td>\n",
       "      <td>0.617468</td>\n",
       "      <td>0.617468</td>\n",
       "      <td>0.617468</td>\n",
       "      <td>0.617468</td>\n",
       "      <td>0.617468</td>\n",
       "      <td>0.617468</td>\n",
       "      <td>0.0</td>\n",
       "      <td>0.0</td>\n",
       "      <td>0.0</td>\n",
       "      <td>1.238039</td>\n",
       "    </tr>\n",
       "    <tr>\n",
       "      <th>4394</th>\n",
       "      <td>2020-08-15 11:44:00</td>\n",
       "      <td>0.620642</td>\n",
       "      <td>0.795203</td>\n",
       "      <td>1.694748</td>\n",
       "      <td>0.620641</td>\n",
       "      <td>0.620642</td>\n",
       "      <td>0.616095</td>\n",
       "      <td>0.616095</td>\n",
       "      <td>0.616095</td>\n",
       "      <td>0.616095</td>\n",
       "      <td>0.616095</td>\n",
       "      <td>0.616095</td>\n",
       "      <td>0.0</td>\n",
       "      <td>0.0</td>\n",
       "      <td>0.0</td>\n",
       "      <td>1.236736</td>\n",
       "    </tr>\n",
       "    <tr>\n",
       "      <th>4395</th>\n",
       "      <td>2020-08-15 11:45:00</td>\n",
       "      <td>0.620712</td>\n",
       "      <td>0.790339</td>\n",
       "      <td>1.688571</td>\n",
       "      <td>0.620712</td>\n",
       "      <td>0.620712</td>\n",
       "      <td>0.614679</td>\n",
       "      <td>0.614679</td>\n",
       "      <td>0.614679</td>\n",
       "      <td>0.614679</td>\n",
       "      <td>0.614679</td>\n",
       "      <td>0.614679</td>\n",
       "      <td>0.0</td>\n",
       "      <td>0.0</td>\n",
       "      <td>0.0</td>\n",
       "      <td>1.235391</td>\n",
       "    </tr>\n",
       "    <tr>\n",
       "      <th>4396</th>\n",
       "      <td>2020-08-15 11:46:00</td>\n",
       "      <td>0.620783</td>\n",
       "      <td>0.741815</td>\n",
       "      <td>1.670862</td>\n",
       "      <td>0.620783</td>\n",
       "      <td>0.620783</td>\n",
       "      <td>0.613220</td>\n",
       "      <td>0.613220</td>\n",
       "      <td>0.613220</td>\n",
       "      <td>0.613220</td>\n",
       "      <td>0.613220</td>\n",
       "      <td>0.613220</td>\n",
       "      <td>0.0</td>\n",
       "      <td>0.0</td>\n",
       "      <td>0.0</td>\n",
       "      <td>1.234003</td>\n",
       "    </tr>\n",
       "    <tr>\n",
       "      <th>4397</th>\n",
       "      <td>2020-08-15 11:47:00</td>\n",
       "      <td>0.620854</td>\n",
       "      <td>0.826991</td>\n",
       "      <td>1.675647</td>\n",
       "      <td>0.620854</td>\n",
       "      <td>0.620854</td>\n",
       "      <td>0.611718</td>\n",
       "      <td>0.611718</td>\n",
       "      <td>0.611718</td>\n",
       "      <td>0.611718</td>\n",
       "      <td>0.611718</td>\n",
       "      <td>0.611718</td>\n",
       "      <td>0.0</td>\n",
       "      <td>0.0</td>\n",
       "      <td>0.0</td>\n",
       "      <td>1.232572</td>\n",
       "    </tr>\n",
       "  </tbody>\n",
       "</table>\n",
       "<p>4398 rows × 16 columns</p>\n",
       "</div>"
      ],
      "text/plain": [
       "                      ds     trend  yhat_lower  yhat_upper  trend_lower  \\\n",
       "0    2020-08-10 08:15:00  0.096015    0.013495    0.937602     0.096015   \n",
       "1    2020-08-10 09:09:00  0.099839    0.137015    1.084295     0.099839   \n",
       "2    2020-08-10 09:21:00  0.100689    0.125728    1.066251     0.100689   \n",
       "3    2020-08-10 09:30:00  0.101326    0.139469    1.115791     0.101326   \n",
       "4    2020-08-10 09:39:00  0.101963    0.168738    1.104450     0.101963   \n",
       "...                  ...       ...         ...         ...          ...   \n",
       "4393 2020-08-15 11:43:00  0.620571    0.776691    1.683913     0.620571   \n",
       "4394 2020-08-15 11:44:00  0.620642    0.795203    1.694748     0.620641   \n",
       "4395 2020-08-15 11:45:00  0.620712    0.790339    1.688571     0.620712   \n",
       "4396 2020-08-15 11:46:00  0.620783    0.741815    1.670862     0.620783   \n",
       "4397 2020-08-15 11:47:00  0.620854    0.826991    1.675647     0.620854   \n",
       "\n",
       "      trend_upper  additive_terms  additive_terms_lower  additive_terms_upper  \\\n",
       "0        0.096015        0.392628              0.392628              0.392628   \n",
       "1        0.099839        0.498992              0.498992              0.498992   \n",
       "2        0.100689        0.519898              0.519898              0.519898   \n",
       "3        0.101326        0.535098              0.535098              0.535098   \n",
       "4        0.101963        0.549855              0.549855              0.549855   \n",
       "...           ...             ...                   ...                   ...   \n",
       "4393     0.620571        0.617468              0.617468              0.617468   \n",
       "4394     0.620642        0.616095              0.616095              0.616095   \n",
       "4395     0.620712        0.614679              0.614679              0.614679   \n",
       "4396     0.620783        0.613220              0.613220              0.613220   \n",
       "4397     0.620854        0.611718              0.611718              0.611718   \n",
       "\n",
       "         daily  daily_lower  daily_upper  multiplicative_terms  \\\n",
       "0     0.392628     0.392628     0.392628                   0.0   \n",
       "1     0.498992     0.498992     0.498992                   0.0   \n",
       "2     0.519898     0.519898     0.519898                   0.0   \n",
       "3     0.535098     0.535098     0.535098                   0.0   \n",
       "4     0.549855     0.549855     0.549855                   0.0   \n",
       "...        ...          ...          ...                   ...   \n",
       "4393  0.617468     0.617468     0.617468                   0.0   \n",
       "4394  0.616095     0.616095     0.616095                   0.0   \n",
       "4395  0.614679     0.614679     0.614679                   0.0   \n",
       "4396  0.613220     0.613220     0.613220                   0.0   \n",
       "4397  0.611718     0.611718     0.611718                   0.0   \n",
       "\n",
       "      multiplicative_terms_lower  multiplicative_terms_upper      yhat  \n",
       "0                            0.0                         0.0  0.488644  \n",
       "1                            0.0                         0.0  0.598831  \n",
       "2                            0.0                         0.0  0.620587  \n",
       "3                            0.0                         0.0  0.636424  \n",
       "4                            0.0                         0.0  0.651819  \n",
       "...                          ...                         ...       ...  \n",
       "4393                         0.0                         0.0  1.238039  \n",
       "4394                         0.0                         0.0  1.236736  \n",
       "4395                         0.0                         0.0  1.235391  \n",
       "4396                         0.0                         0.0  1.234003  \n",
       "4397                         0.0                         0.0  1.232572  \n",
       "\n",
       "[4398 rows x 16 columns]"
      ]
     },
     "execution_count": 28,
     "metadata": {},
     "output_type": "execute_result"
    }
   ],
   "source": [
    "fcst"
   ]
  },
  {
   "cell_type": "code",
   "execution_count": null,
   "metadata": {},
   "outputs": [],
   "source": []
  }
 ],
 "metadata": {
  "kernelspec": {
   "display_name": "Python 3",
   "language": "python",
   "name": "python3"
  },
  "language_info": {
   "codemirror_mode": {
    "name": "ipython",
    "version": 3
   },
   "file_extension": ".py",
   "mimetype": "text/x-python",
   "name": "python",
   "nbconvert_exporter": "python",
   "pygments_lexer": "ipython3",
   "version": "3.7.1"
  }
 },
 "nbformat": 4,
 "nbformat_minor": 2
}
