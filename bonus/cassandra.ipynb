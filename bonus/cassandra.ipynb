{
 "cells": [
  {
   "cell_type": "code",
   "execution_count": 1,
   "metadata": {},
   "outputs": [
    {
     "data": {
      "text/plain": [
       "<cassandra.cluster.ResultSet at 0x16c500f2dd8>"
      ]
     },
     "execution_count": 1,
     "metadata": {},
     "output_type": "execute_result"
    }
   ],
   "source": [
    "# !python -m pip install cassandra-driver\n",
    "from cassandra.cluster import Cluster\n",
    "from datetime import datetime\n",
    "from kafka import KafkaConsumer\n",
    "from elasticsearch import Elasticsearch\n",
    "from pykafka import KafkaClient\n",
    "import time\n",
    "import json\n",
    "import sys\n",
    "import ast\n",
    "\n",
    "cluster = Cluster()\n",
    "session = cluster.connect()\n",
    "# session.execute(\"create KEYSPACE final5 WITH replication = {'class': 'SimpleStrategy', 'replication_factor': 1};\")\n",
    "session.execute('USE final4;')\n",
    "# table1 = \"\"\"CREATE TABLE all_posts(body text,date text, message_id text, channel_id text \n",
    "#  ,PRIMARY KEY((date),channel_id,message_id)\n",
    "#  );\"\"\"\n",
    "# session.execute(table1)\n",
    "\n",
    "# table2 = \"\"\"CREATE TABLE all_channels(channel_id text ,date text, message_id text \n",
    "# ,PRIMARY KEY((channel_id),date,message_id)\n",
    "# );\"\"\"\n",
    "# session.execute(table2)\n",
    "\n",
    "# table3 = \"\"\"CREATE TABLE all_hashtags(hashtag_name text,body text,date text, message_id text\n",
    "# ,PRIMARY KEY((hashtag_name),date,message_id)\n",
    "# );\"\"\"\n",
    "# session.execute(table3)"
   ]
  },
  {
   "cell_type": "code",
   "execution_count": null,
   "metadata": {},
   "outputs": [
    {
     "name": "stdout",
     "output_type": "stream",
     "text": [
      "15967114784041696ag1ay 2020-08-06 10:58:00 bigproj []\n",
      "1597216166826d36b2qpnD 2020-08-12 07:09:00 tasnimna []\n",
      "1597215781630d7fafybbp 2020-08-12 07:03:00 farsna []\n",
      "15972162022947f980K7oc 2020-08-12 07:10:00 iribnews []\n",
      "1597213680742a94421mda20e1lm9bx68qwbfg 2020-08-12 06:28:00 webda ['من_ماسک_میزنم', 'جان_ما_ایران_ما']\n",
      "1597216789486d7faf1dl2 2020-08-12 07:20:00 farsna []\n",
      "15972169845167f980w945 2020-08-12 07:23:00 iribnews []\n",
      "1597217157219d7fafRuoT 2020-08-12 07:26:00 farsna []\n",
      "1597217435151d7faf0xcp 2020-08-12 07:30:00 farsna []\n",
      "15972176377447f980u5oi 2020-08-12 07:33:00 iribnews ['خبرهای_کوتاه']\n",
      "1597217753392d36b2bbwd 2020-08-12 07:35:00 tasnimna ['کرونا']\n",
      "15972184626137f980CgMp 2020-08-12 07:47:00 iribnews []\n",
      "15972176377447f980u5oi 2020-08-12 07:33:00 iribnews ['خبرهای_کوتاه']\n",
      "15972184626137f980CgMp 2020-08-12 07:47:00 iribnews []\n",
      "15972193494617f9804xDu 2020-08-12 08:02:00 iribnews []\n",
      "15972199818597f980iCCt 2020-08-12 08:13:00 iribnews []\n",
      "15972193494617f9804xDu 2020-08-12 08:02:00 iribnews []\n",
      "15972199818597f980iCCt 2020-08-12 08:13:00 iribnews []\n",
      "1597220623322d36b2ua7d 2020-08-12 08:23:00 tasnimna []\n",
      "1597220644027d36b2y43g 2020-08-12 08:24:00 tasnimna []\n",
      "1597220623322d36b2ua7d 2020-08-12 08:23:00 tasnimna []\n",
      "15972208186407f980OIvg 2020-08-12 08:27:00 iribnews []\n",
      "1597220931580d36b2vpb8 2020-08-12 08:28:00 tasnimna []\n",
      "1597221054012d36b2y26i 2020-08-12 08:30:00 tasnimna []\n",
      "1597221135434d36b2ddrb 2020-08-12 08:32:00 tasnimna []\n",
      "15972216145099466eyi6W 2020-08-12 08:40:00 iribnews []\n",
      "15972208186407f980OIvg 2020-08-12 08:27:00 iribnews []\n",
      "15972216145099466eyi6W 2020-08-12 08:40:00 iribnews []\n",
      "15972220750859466eLoAA 2020-08-12 08:47:00 iribnews []\n",
      "1597222263413d7faftZ4J 2020-08-12 08:51:00 farsna []\n",
      "15967114784041696ag1ay 2020-08-06 10:58:00 bigproj []\n",
      "1597221135434d36b2ddrb 2020-08-12 08:32:00 tasnimna []\n",
      "1597222263413d7faftZ4J 2020-08-12 08:51:00 farsna []\n",
      "15972226018119466e1w5X 2020-08-12 08:56:00 iribnews []\n",
      "1597213680742a94421mda20e1lm9bx68qwbfg 2020-08-12 06:28:00 webda ['من_ماسک_میزنم', 'جان_ما_ایران_ما']\n",
      "1597223518068d36b2fvsn 2020-08-12 09:12:00 tasnimna []\n",
      "15967114784041696ag1ay 2020-08-06 10:58:00 bigproj []\n",
      "1597225339974d36b2zrms 2020-08-12 09:42:00 tasnimna []\n",
      "1597225631325d7faf0yzz 2020-08-12 09:47:00 farsna ['آمار_کرونا']\n",
      "15972265382757f980WOyw 2020-08-12 10:02:00 iribnews ['خبرهای_کوتاه']\n",
      "1597225217069a9442wwukx30gvqaefo65ggng 2020-08-12 09:40:00 webda ['من_ماسک_میزنم', 'جان_ما_ایران_ما']\n",
      "1597226999270d7faftmdh 2020-08-12 10:10:00 farsna []\n",
      "15972271835719466eJDVa 2020-08-12 10:13:00 iribnews []\n",
      "1597222160099d7fafkumv 2020-08-12 10:14:00 farsna []\n",
      "15972277851389466e9ID4 2020-08-12 10:23:00 iribnews []\n",
      "15967114784041696ag1ay 2020-08-06 10:58:00 bigproj []\n",
      "1597228248207d36b2iioc 2020-08-12 10:31:00 tasnimna []\n",
      "1597229798474d7fafhOkU 2020-08-12 10:56:00 farsna []\n",
      "1597229231236e7500EVgQ 2020-08-12 10:47:00 iribnews []\n",
      "1597229205804a9442mvarbnunjh4habxzibd7 2020-08-12 10:46:00 webda ['من_ماسک_میزنم', 'جان_ما_ایران_ما']\n",
      "1597230017683d7fafvva4 2020-08-12 11:00:00 farsna []\n",
      "1597230258176e7500mHYC 2020-08-12 11:04:00 iribnews []\n",
      "1597230955904d36b2znph 2020-08-12 11:15:00 tasnimna ['کرونا']\n",
      "1597231059199a9442mcb4zrjjjw23nwdfensz 2020-08-12 11:17:00 webda ['من_ماسک_میزنم', 'جان_ما_ایران_ما']\n",
      "15972313467649466e9c3C 2020-08-12 11:22:00 iribnews []\n",
      "1597232016747e7500p3Ax 2020-08-12 11:33:00 iribnews ['خبرهای_کوتاه']\n",
      "1597232389226d7fafEIfy 2020-08-12 11:40:00 farsna ['سرخط_فارس|خطر']\n",
      "1597232827607e75003yqE 2020-08-12 11:47:00 iribnews []\n",
      "1597232016747e7500p3Ax 2020-08-12 11:33:00 iribnews ['خبرهای_کوتاه']\n",
      "1597232827607e75003yqE 2020-08-12 11:47:00 iribnews []\n"
     ]
    }
   ],
   "source": [
    "#kafka\n",
    "from pykafka import KafkaClient\n",
    "client = KafkaClient(hosts=\"127.0.0.1:9092\")\n",
    "topic = client.topics[\"final\"]\n",
    "consumer = topic.get_simple_consumer()\n",
    "\n",
    "for message in consumer:\n",
    "    if message is not None:\n",
    "        time.sleep(1)\n",
    "        msg = (message.value).decode(\"utf-8\")\n",
    "        msg = ast.literal_eval(msg)\n",
    "        message_id = msg['message_id']\n",
    "        timestampISO = msg['timestampISO']\n",
    "        modtimestampISO = timestampISO.replace('T',' ').replace(timestampISO[-8:],'00')\n",
    "        channel_id = msg['channel_id']\n",
    "        hashtags = msg['hashtags']\n",
    "        text= msg['text']\n",
    "        \n",
    "        print(message_id , modtimestampISO , channel_id, hashtags)\n",
    "        \n",
    "        insert1 = \"\"\"INSERT INTO all_posts(body , date, message_id , channel_id) VALUES(%s,%s, %s, %s);\"\"\"\n",
    "        session.execute(insert1,(text,timestampISO,message_id,channel_id))\n",
    "        \n",
    "        insert2 = \"\"\"INSERT INTO all_channels(channel_id ,date, message_id) VALUES(%s,%s,%s);\"\"\"\n",
    "        session.execute(insert2,(channel_id,modtimestampISO, message_id))\n",
    "        \n",
    "\n",
    "        for h in hashtags:\n",
    "            insert3 = \"\"\"INSERT INTO all_hashtags(hashtag_name,date, message_id) VALUES(%s,%s,%s);\"\"\"\n",
    "            session.execute(insert3,(h,timestampISO,message_id))\n",
    "\n",
    "        \n",
    "        \n"
   ]
  },
  {
   "cell_type": "code",
   "execution_count": null,
   "metadata": {},
   "outputs": [],
   "source": []
  }
 ],
 "metadata": {
  "kernelspec": {
   "display_name": "Python 3",
   "language": "python",
   "name": "python3"
  },
  "language_info": {
   "codemirror_mode": {
    "name": "ipython",
    "version": 3
   },
   "file_extension": ".py",
   "mimetype": "text/x-python",
   "name": "python",
   "nbconvert_exporter": "python",
   "pygments_lexer": "ipython3",
   "version": "3.7.1"
  }
 },
 "nbformat": 4,
 "nbformat_minor": 2
}
