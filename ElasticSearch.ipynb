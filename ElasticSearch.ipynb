{
 "cells": [
  {
   "cell_type": "code",
   "execution_count": 1,
   "metadata": {},
   "outputs": [],
   "source": [
    "# !python -m pip install elasticsearch\n",
    "from datetime import datetime\n",
    "from kafka import KafkaConsumer\n",
    "from elasticsearch import Elasticsearch\n",
    "from pykafka import KafkaClient\n",
    "import time\n",
    "import json\n",
    "import sys\n",
    "import ast\n"
   ]
  },
  {
   "cell_type": "code",
   "execution_count": 2,
   "metadata": {},
   "outputs": [
    {
     "name": "stdout",
     "output_type": "stream",
     "text": [
      "10\n",
      "20\n",
      "30\n",
      "40\n",
      "50\n",
      "60\n",
      "70\n",
      "80\n"
     ]
    },
    {
     "name": "stderr",
     "output_type": "stream",
     "text": [
      "ERROR:root:Internal Python error in the inspect module.\n",
      "Below is the traceback from this internal error.\n",
      "\n"
     ]
    },
    {
     "name": "stdout",
     "output_type": "stream",
     "text": [
      "Traceback (most recent call last):\n",
      "  File \"C:\\Users\\Fatemeh Saligheh\\Anaconda3\\lib\\site-packages\\IPython\\core\\interactiveshell.py\", line 3267, in run_code\n",
      "    exec(code_obj, self.user_global_ns, self.user_ns)\n",
      "  File \"<ipython-input-2-4d7d98ab7a2c>\", line 9, in <module>\n",
      "    for message in consumer:\n",
      "  File \"C:\\Users\\Fatemeh Saligheh\\Anaconda3\\lib\\site-packages\\pykafka\\simpleconsumer.py\", line 461, in __iter__\n",
      "    message = self.consume(block=True)\n",
      "  File \"C:\\Users\\Fatemeh Saligheh\\Anaconda3\\lib\\site-packages\\pykafka\\simpleconsumer.py\", line 485, in consume\n",
      "    if self._messages_arrived.acquire(blocking=block, timeout=timeout):\n",
      "  File \"C:\\Users\\Fatemeh Saligheh\\Anaconda3\\lib\\threading.py\", line 427, in acquire\n",
      "    self._cond.wait(timeout)\n",
      "  File \"C:\\Users\\Fatemeh Saligheh\\Anaconda3\\lib\\threading.py\", line 300, in wait\n",
      "    gotit = waiter.acquire(True, timeout)\n",
      "KeyboardInterrupt\n",
      "\n",
      "During handling of the above exception, another exception occurred:\n",
      "\n",
      "Traceback (most recent call last):\n",
      "  File \"C:\\Users\\Fatemeh Saligheh\\Anaconda3\\lib\\site-packages\\IPython\\core\\interactiveshell.py\", line 2018, in showtraceback\n",
      "    stb = value._render_traceback_()\n",
      "AttributeError: 'KeyboardInterrupt' object has no attribute '_render_traceback_'\n",
      "\n",
      "During handling of the above exception, another exception occurred:\n",
      "\n",
      "Traceback (most recent call last):\n",
      "  File \"C:\\Users\\Fatemeh Saligheh\\Anaconda3\\lib\\site-packages\\IPython\\core\\ultratb.py\", line 1095, in get_records\n",
      "    return _fixed_getinnerframes(etb, number_of_lines_of_context, tb_offset)\n",
      "  File \"C:\\Users\\Fatemeh Saligheh\\Anaconda3\\lib\\site-packages\\IPython\\core\\ultratb.py\", line 313, in wrapped\n",
      "    return f(*args, **kwargs)\n",
      "  File \"C:\\Users\\Fatemeh Saligheh\\Anaconda3\\lib\\site-packages\\IPython\\core\\ultratb.py\", line 347, in _fixed_getinnerframes\n",
      "    records = fix_frame_records_filenames(inspect.getinnerframes(etb, context))\n",
      "  File \"C:\\Users\\Fatemeh Saligheh\\Anaconda3\\lib\\inspect.py\", line 1500, in getinnerframes\n",
      "    frameinfo = (tb.tb_frame,) + getframeinfo(tb, context)\n",
      "  File \"C:\\Users\\Fatemeh Saligheh\\Anaconda3\\lib\\inspect.py\", line 1458, in getframeinfo\n",
      "    filename = getsourcefile(frame) or getfile(frame)\n",
      "  File \"C:\\Users\\Fatemeh Saligheh\\Anaconda3\\lib\\inspect.py\", line 696, in getsourcefile\n",
      "    if getattr(getmodule(object, filename), '__loader__', None) is not None:\n",
      "  File \"C:\\Users\\Fatemeh Saligheh\\Anaconda3\\lib\\inspect.py\", line 732, in getmodule\n",
      "    for modname, module in list(sys.modules.items()):\n",
      "KeyboardInterrupt\n"
     ]
    },
    {
     "ename": "KeyboardInterrupt",
     "evalue": "",
     "output_type": "error",
     "traceback": [
      "\u001b[1;31m---------------------------------------------------------------------------\u001b[0m"
     ]
    },
    {
     "name": "stderr",
     "output_type": "stream",
     "text": [
      "WARNING:pykafka.broker:Failed to connect to broker at 127.0.0.1:9092. Check the `listeners` property in server.config.\n",
      "ERROR:pykafka.cluster:Socket disconnected during request for broker 127.0.0.1:9092. Continuing.\n"
     ]
    }
   ],
   "source": [
    "es = Elasticsearch()\n",
    "\n",
    "client = KafkaClient(hosts=\"127.0.0.1:9092\")\n",
    "topic = client.topics[\"final\"]\n",
    "\n",
    "consumer = topic.get_simple_consumer()\n",
    "\n",
    "esid = 0\n",
    "for message in consumer:\n",
    "    if message is not None:\n",
    "        time.sleep(1)\n",
    "        esid += 1\n",
    "        if esid % 10 == 0:\n",
    "            print(esid)\n",
    "            \n",
    "        msg = (message.value).decode(\"utf-8\")\n",
    "        \n",
    "        msg = ast.literal_eval(msg)\n",
    "        \n",
    "        index = int(msg['index'])\n",
    "        \n",
    "        es.index(index=index, id=esid, body=msg)"
   ]
  },
  {
   "cell_type": "code",
   "execution_count": null,
   "metadata": {},
   "outputs": [],
   "source": []
  }
 ],
 "metadata": {
  "kernelspec": {
   "display_name": "Python 3",
   "language": "python",
   "name": "python3"
  },
  "language_info": {
   "codemirror_mode": {
    "name": "ipython",
    "version": 3
   },
   "file_extension": ".py",
   "mimetype": "text/x-python",
   "name": "python",
   "nbconvert_exporter": "python",
   "pygments_lexer": "ipython3",
   "version": "3.7.1"
  }
 },
 "nbformat": 4,
 "nbformat_minor": 2
}
