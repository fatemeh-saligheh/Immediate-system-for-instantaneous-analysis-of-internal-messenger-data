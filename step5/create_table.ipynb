{
 "cells": [
  {
   "cell_type": "code",
   "execution_count": 4,
   "metadata": {},
   "outputs": [
    {
     "name": "stdout",
     "output_type": "stream",
     "text": [
      "Collecting clickhouse_driver\n",
      "  Downloading https://files.pythonhosted.org/packages/ae/9f/ea259ccdd0ba52009914b4c1842e5169602da55c98ed5c418fdc5a8618c6/clickhouse_driver-0.1.4-cp37-cp37m-win_amd64.whl (170kB)\n",
      "Requirement already satisfied: pytz in f:\\anaconda\\lib\\site-packages (from clickhouse_driver) (2019.3)\n",
      "Collecting tzlocal (from clickhouse_driver)\n",
      "  Downloading https://files.pythonhosted.org/packages/5d/94/d47b0fd5988e6b7059de05720a646a2930920fff247a826f61674d436ba4/tzlocal-2.1-py2.py3-none-any.whl\n",
      "Installing collected packages: tzlocal, clickhouse-driver\n",
      "Successfully installed clickhouse-driver-0.1.4 tzlocal-2.1\n"
     ]
    }
   ],
   "source": [
    "#!pip install clickhouse_driver"
   ]
  },
  {
   "cell_type": "code",
   "execution_count": 15,
   "metadata": {},
   "outputs": [
    {
     "data": {
      "text/plain": [
       "[]"
      ]
     },
     "execution_count": 15,
     "metadata": {},
     "output_type": "execute_result"
    }
   ],
   "source": [
    "from clickhouse_driver import Client\n",
    "client = Client(host='localhost')\n",
    "\n",
    "client.execute('CREATE DATABASE IF NOT EXISTS clickhouse')\n",
    "client.execute(\"\"\"CREATE TABLE clickhouse.all_posts(\n",
    "    channel_id String,eventdate date\n",
    "    ,eventtime DateTime,message_id String ,hashtags Array(String)\n",
    "    ,metadata Array(String)\n",
    "    )\n",
    "    ENGINE = MergeTree\n",
    "    PARTITION BY eventdate ORDER BY(eventdate,channel_id)\n",
    "    \"\"\")"
   ]
  },
  {
   "cell_type": "code",
   "execution_count": 8,
   "metadata": {},
   "outputs": [
    {
     "data": {
      "text/plain": [
       "[]"
      ]
     },
     "execution_count": 8,
     "metadata": {},
     "output_type": "execute_result"
    }
   ],
   "source": [
    "client.execute('select * from clickhouse.all_posts')"
   ]
  },
  {
   "cell_type": "code",
   "execution_count": 2,
   "metadata": {},
   "outputs": [
    {
     "data": {
      "text/plain": [
       "[]"
      ]
     },
     "execution_count": 2,
     "metadata": {},
     "output_type": "execute_result"
    }
   ],
   "source": [
    "#client.execute('DROP TABLE IF EXISTS clickhouse.hashtags')"
   ]
  },
  {
   "cell_type": "code",
   "execution_count": 3,
   "metadata": {},
   "outputs": [
    {
     "data": {
      "text/plain": [
       "[]"
      ]
     },
     "execution_count": 3,
     "metadata": {},
     "output_type": "execute_result"
    }
   ],
   "source": [
    "from clickhouse_driver import Client\n",
    "client = Client(host='localhost')\n",
    "client.execute(\"\"\"CREATE TABLE clickhouse.hashtags(\n",
    "    hashtag String,\n",
    "    channel_id String,eventdate date\n",
    "    ,eventtime DateTime,message_id String\n",
    "    )\n",
    "    ENGINE = MergeTree\n",
    "    PARTITION BY hashtag ORDER BY(hashtag,eventdate,channel_id)\n",
    "    \"\"\")"
   ]
  },
  {
   "cell_type": "code",
   "execution_count": 4,
   "metadata": {},
   "outputs": [
    {
     "data": {
      "text/plain": [
       "[('all_posts',), ('hashtags',)]"
      ]
     },
     "execution_count": 4,
     "metadata": {},
     "output_type": "execute_result"
    }
   ],
   "source": [
    "client.execute('show tables from clickhouse')"
   ]
  },
  {
   "cell_type": "code",
   "execution_count": null,
   "metadata": {},
   "outputs": [],
   "source": []
  }
 ],
 "metadata": {
  "kernelspec": {
   "display_name": "Python 3",
   "language": "python",
   "name": "python3"
  },
  "language_info": {
   "codemirror_mode": {
    "name": "ipython",
    "version": 3
   },
   "file_extension": ".py",
   "mimetype": "text/x-python",
   "name": "python",
   "nbconvert_exporter": "python",
   "pygments_lexer": "ipython3",
   "version": "3.7.4"
  }
 },
 "nbformat": 4,
 "nbformat_minor": 2
}
