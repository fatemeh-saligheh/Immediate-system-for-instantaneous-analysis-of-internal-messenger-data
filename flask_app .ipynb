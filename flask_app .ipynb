{
 "cells": [
  {
   "cell_type": "code",
   "execution_count": 135,
   "metadata": {},
   "outputs": [],
   "source": [
    "from flask import Flask\n",
    "import redis\n",
    "from kafka import KafkaConsumer\n",
    "from pykafka import KafkaClient\n",
    "from datetime import timedelta,datetime\n",
    "from flask import request,render_template"
   ]
  },
  {
   "cell_type": "code",
   "execution_count": 136,
   "metadata": {},
   "outputs": [],
   "source": [
    "r = redis.Redis(host='localhost', port=6379, db=0)"
   ]
  },
  {
   "cell_type": "code",
   "execution_count": 137,
   "metadata": {},
   "outputs": [],
   "source": [
    "#part1\n",
    "def part1():\n",
    "    channel_key = 'tasnimna'\n",
    "    count = 0\n",
    "    for i in range(6):\n",
    "        last_hour_date_time = datetime.now() - timedelta(hours = i)\n",
    "        last_time = last_hour_date_time.strftime(\"%m\") + last_hour_date_time.strftime(\"%d\") + last_hour_date_time.strftime(\"%H\")\n",
    "        if(r.hexists(channel_key+last_time,last_time)):\n",
    "            count += int(r.hget(channel_key+last_time,last_time))\n",
    "    return 'number of post from channel '+channel_key+' in 6 hour ago is ' + str(count)\n",
    "    "
   ]
  },
  {
   "cell_type": "code",
   "execution_count": 138,
   "metadata": {},
   "outputs": [
    {
     "data": {
      "text/plain": [
       "'number of post from channel tasnimna in 6 hour ago is 0'"
      ]
     },
     "execution_count": 138,
     "metadata": {},
     "output_type": "execute_result"
    }
   ],
   "source": [
    "part1()"
   ]
  },
  {
   "cell_type": "code",
   "execution_count": 139,
   "metadata": {},
   "outputs": [],
   "source": [
    "#part2\n",
    "def part2():\n",
    "    count = 0 \n",
    "    for i in range(24):\n",
    "        last_hour_date_time = datetime.now() - timedelta(hours = i)\n",
    "        last_time = last_hour_date_time.strftime(\"%m\") + last_hour_date_time.strftime(\"%d\") + last_hour_date_time.strftime(\"%H\")\n",
    "        if(r.hexists('count'+last_time,last_time)):\n",
    "            count += int(r.hget('count'+last_time,last_time))\n",
    "    return 'total number of posts in 24 hours ago is ' + str(count)"
   ]
  },
  {
   "cell_type": "code",
   "execution_count": 140,
   "metadata": {},
   "outputs": [
    {
     "data": {
      "text/plain": [
       "'total number of posts in 24 hours ago is 42'"
      ]
     },
     "execution_count": 140,
     "metadata": {},
     "output_type": "execute_result"
    }
   ],
   "source": [
    "part2()"
   ]
  },
  {
   "cell_type": "code",
   "execution_count": 142,
   "metadata": {},
   "outputs": [],
   "source": [
    "#part3\n",
    "def part3():\n",
    "    date_time = datetime.now()\n",
    "    nowtime = date_time.strftime(\"%m\") + date_time.strftime(\"%d\") + date_time.strftime(\"%H\")\n",
    "    last_hour_date_time = date_time - timedelta(hours = 1)\n",
    "    last_time = last_hour_date_time.strftime(\"%m\") + last_hour_date_time.strftime(\"%d\") + last_hour_date_time.strftime(\"%H\")\n",
    "\n",
    "    hashtags = [i.decode(\"utf-8\")[:-8] for i in r.hgetall('hashtags'+nowtime)] +[i.decode(\"utf-8\")[:-8] for i in r.hgetall('hashtags'+last_time)]\n",
    "\n",
    "    hashtags = set(hashtags)\n",
    "    hashtags = list(hashtags)\n",
    "#     print(hashtags)\n",
    "    count = {}\n",
    "    for hashtag in hashtags:\n",
    "        c = 0 \n",
    "        for i in range(60):    \n",
    "            last_min_date_time = date_time - timedelta(minutes = i)\n",
    "            last_time_min = last_min_date_time.strftime(\"%m\") + last_min_date_time.strftime(\"%d\") + last_min_date_time.strftime(\"%H\") + last_min_date_time.strftime(\"%m\")\n",
    "\n",
    "            if(r.hexists('hashtags'+last_time,hashtag+last_time_min) ):\n",
    "                c += int(r.hget('hashtags'+last_time,hashtag+last_time_min))\n",
    "            if(r.hexists('hashtags'+ nowtime,hashtag+last_time_min) ):\n",
    "                c += int(r.hget('hashtags'+nowtime,hashtag+last_time_min))\n",
    "        count[hashtag] = c\n",
    "    return 'count of each hashtags in 60 min ago : ' + str(count)"
   ]
  },
  {
   "cell_type": "code",
   "execution_count": 143,
   "metadata": {},
   "outputs": [
    {
     "data": {
      "text/plain": [
       "'count of each hashtags in 60 min ago : {}'"
      ]
     },
     "execution_count": 143,
     "metadata": {},
     "output_type": "execute_result"
    }
   ],
   "source": [
    "part3()"
   ]
  },
  {
   "cell_type": "code",
   "execution_count": 144,
   "metadata": {},
   "outputs": [],
   "source": [
    "#part4\n",
    "def part4():\n",
    "    last_hash = [i.decode(\"utf-8\") for i in r.lrange('hashtagList',0,999)]\n",
    "    stringres = \"\"\n",
    "    for i in range(len(last_hash)):\n",
    "        \n",
    "        stringres =  stringres + '|' + last_hash[i]\n",
    "        if(i%10 == 9):\n",
    "            stringres =  stringres + ' <br/> '\n",
    "    return 'last 1000 hashtags : ' +' <br/> '+stringres"
   ]
  },
  {
   "cell_type": "code",
   "execution_count": 145,
   "metadata": {},
   "outputs": [],
   "source": [
    "#part5\n",
    "def part5():\n",
    "    last_posts = [i.decode(\"utf-8\") for i in r.lrange('postList',0,99)]\n",
    "    stringres = \"\"\n",
    "    for i in range(len(last_posts)):\n",
    "         stringres =  stringres + str(i) + ')  ' + last_posts[i] +' <br/> '\n",
    "        \n",
    "    return 'last 100 post is :' +' <br/> ' + stringres"
   ]
  },
  {
   "cell_type": "code",
   "execution_count": 146,
   "metadata": {},
   "outputs": [],
   "source": [
    "def result():\n",
    "    n = \"\"\n",
    "    for i in range(120):\n",
    "        n = n + \" - \"\n",
    "    res = part1() + ' <br/> '+n+ ' <br/> ' + part2() + ' <br/> '+n+ ' <br/> ' + part3() + ' <br/> '+n+ ' <br/> ' + part4() + ' <br/> '+n+ ' <br/> ' + part5() \n",
    "    return res"
   ]
  },
  {
   "cell_type": "code",
   "execution_count": null,
   "metadata": {},
   "outputs": [
    {
     "name": "stdout",
     "output_type": "stream",
     "text": [
      " * Serving Flask app \"__main__\" (lazy loading)\n",
      " * Environment: production\n",
      "   WARNING: Do not use the development server in a production environment.\n",
      "   Use a production WSGI server instead.\n",
      " * Debug mode: off\n"
     ]
    },
    {
     "name": "stderr",
     "output_type": "stream",
     "text": [
      " * Running on http://127.0.0.1:5000/ (Press CTRL+C to quit)\n",
      "127.0.0.1 - - [05/Aug/2020 20:08:57] \"\u001b[37mGET / HTTP/1.1\u001b[0m\" 200 -\n",
      "127.0.0.1 - - [05/Aug/2020 20:11:11] \"\u001b[37mGET / HTTP/1.1\u001b[0m\" 200 -\n",
      "127.0.0.1 - - [05/Aug/2020 20:28:01] \"\u001b[37mGET / HTTP/1.1\u001b[0m\" 200 -\n",
      "127.0.0.1 - - [05/Aug/2020 21:09:22] \"\u001b[37mGET / HTTP/1.1\u001b[0m\" 200 -\n",
      "127.0.0.1 - - [06/Aug/2020 01:22:43] \"\u001b[37mGET / HTTP/1.1\u001b[0m\" 200 -\n"
     ]
    }
   ],
   "source": [
    "app = Flask(__name__)\n",
    "   \n",
    "@app.route('/')\n",
    "def resflask():\n",
    "    return result()\n",
    "\n",
    "if __name__ == '__main__':\n",
    "    app.run()"
   ]
  },
  {
   "cell_type": "code",
   "execution_count": null,
   "metadata": {},
   "outputs": [],
   "source": []
  }
 ],
 "metadata": {
  "kernelspec": {
   "display_name": "Python 3",
   "language": "python",
   "name": "python3"
  },
  "language_info": {
   "codemirror_mode": {
    "name": "ipython",
    "version": 3
   },
   "file_extension": ".py",
   "mimetype": "text/x-python",
   "name": "python",
   "nbconvert_exporter": "python",
   "pygments_lexer": "ipython3",
   "version": "3.7.1"
  }
 },
 "nbformat": 4,
 "nbformat_minor": 2
}
